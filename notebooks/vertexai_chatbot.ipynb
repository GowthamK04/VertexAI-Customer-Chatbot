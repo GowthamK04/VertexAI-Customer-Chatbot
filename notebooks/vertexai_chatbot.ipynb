{
  "cells": [
    {
      "cell_type": "code",
      "execution_count": null,
      "metadata": {
        "colab": {
          "base_uri": "https://localhost:8080/"
        },
        "collapsed": true,
        "id": "u49DUS5QNMXY",
        "outputId": "1ed21667-1883-4a21-c071-a9d12ea83594"
      },
      "outputs": [],
      "source": [
        "!gcloud auth application-default login"
      ]
    },
    {
      "cell_type": "code",
      "execution_count": null,
      "metadata": {
        "id": "eNYWuaAlNdku"
      },
      "outputs": [],
      "source": [
        "!pip3 install --upgrade \"google-cloud-aiplatform>=1.38\"\n"
      ]
    },
    {
      "cell_type": "code",
      "execution_count": null,
      "metadata": {
        "id": "HHlsv0GQPFvM"
      },
      "outputs": [],
      "source": [
        "!gcloud auth application-default set-quota-project \"zeta-pivot-438217-s0\""
      ]
    },
    {
      "cell_type": "code",
      "execution_count": null,
      "metadata": {
        "id": "2FGRFtfePIKi"
      },
      "outputs": [],
      "source": [
        "import vertexai\n",
        "from vertexai.language_models import TextGenerationModel\n",
        "\n",
        "vertexai.init(project=\"zeta-pivot-438217-s0\", location=\"us-central1\")\n",
        "parameters = {\n",
        "    \"candidate_count\": 1,\n",
        "    \"max_output_tokens\": 256,\n",
        "    \"temperature\": 0.2,\n",
        "    \"top_p\": 0.8,\n",
        "    \"top_k\": 40\n",
        "}\n",
        "model = TextGenerationModel.from_pretrained(\"text-bison\")\n",
        "response = model.predict(\n",
        "    \"\"\"Summarize the following conversation between a service rep and a customer in a few sentences. Use only the information from the conversation.\n",
        "\n",
        "Service Rep: How may I assist you today?\n",
        "Customer: I need to change the shipping address for an order.\n",
        "Service Rep: Ok, I can help you with that if the order has not been fulfilled from our warehouse yet. But if it has already shipped, then you will need to contact the shipping provider. Do you have the order ID?\n",
        "Customer: Yes, it\\'s 88986367.\n",
        "Service Rep: One minute please while I pull up your order information.\n",
        "Customer: No problem\n",
        "Service Rep: Ok, it looks like your order was shipped from our warehouse 2 days ago. It is now in the hands of  the shipping provider, so you will need to contact them to update your delivery details. You can track your order with the shipping provider here: https://www.shippingprovider.com\n",
        "Customer: Sigh, ok.\n",
        "Service Rep: Is there anything else I can help you with today?\n",
        "Customer: No, thanks.\"\"\",\n",
        "    **parameters\n",
        ")\n",
        "print(f\"Response from Model: {response.text}\")"
      ]
    },
    {
      "cell_type": "code",
      "execution_count": null,
      "metadata": {
        "id": "lig8b86GQbjo"
      },
      "outputs": [],
      "source": [
        "response = model.predict(\n",
        "    \"\"\"Ticket: I lost my credit card numbered 12345. Can you help with deactivating the card?\n",
        "Category: Credit card\n",
        "\n",
        "Ticket: I would like to change the address associated with my account. I have been calling the bank multiple times but couldn\\'t get through. Please help me.\n",
        "Category: Bank account services\n",
        "\n",
        "Ticket: good morning my name is xxxx xxxx and i appreciate it if you could help me put a stop to chase bank cardmember services. I wrote to chase asking for debt verification and what they sent me a statement which is not acceptable i am asking the bank to validate the debt instead i been receiving mail every month from them attempting to collect a debt i have a right to know this information as a consumer chase account xxxx xxxx xxxx xxxx thanks in advance for your help\n",
        "Category: Loans and Mortgages\n",
        "\n",
        "Ticket: Customer: Hello, I\\'m calling to ask about your credit card rewards programs.\\\\nBank: Hi, thank you for calling [bank name]. Can I have your name and customer ID, please?\\\\nCustomer: Sure, my name is [customer name] and my customer ID is 1312345681.\\\\nBank: Thank you, Mr./Ms. [customer name]. We offer a variety of credit card rewards programs to meet your needs. Would you like me to tell you more about them?\n",
        "Category:\n",
        "\"\"\",\n",
        "    **parameters\n",
        ")\n",
        "print(f\"Response from Model: {response.text}\")"
      ]
    },
    {
      "cell_type": "code",
      "execution_count": null,
      "metadata": {
        "id": "IK4PdYH0ROTi"
      },
      "outputs": [],
      "source": [
        "import pandas as pd\n",
        "\n",
        "banking_df = pd.read_csv(\"/content/banking_dataset.csv\", encoding=\"ISO-8859-1\")"
      ]
    },
    {
      "cell_type": "code",
      "execution_count": 6,
      "metadata": {
        "id": "eALoRuL5RQ5q"
      },
      "outputs": [],
      "source": [
        "banking_df['Classification'] = banking_df.apply(lambda x:model.predict(\n",
        "    \"\"\"Multi-choice problem: Define the category of the ticket?\n",
        "Categories:\n",
        "- Credit card\n",
        "- Bank account services\n",
        "- Loans and Mortgages\"\"\" + 'Ticket: ' + x['call_transcript'] + \"Category: \"\"\").text, axis=1)\n",
        "banking_df.head()"
      ]
    },
    {
      "cell_type": "code",
      "execution_count": null,
      "metadata": {
        "id": "jkleHyDIS9b4"
      },
      "outputs": [],
      "source": [
        "import vertexai\n",
        "from vertexai.language_models import ChatModel, InputOutputTextPair\n",
        "from vertexai import generative_models\n",
        "\n",
        "vertexai.init(project=\"zeta-pivot-438217-s0\", location=\"us-central1\")\n",
        "chat_model = ChatModel.from_pretrained(\"chat-bison\")\n",
        "parameters = {\n",
        "    \"candidate_count\": 1,\n",
        "    \"max_output_tokens\": 1024,\n",
        "    \"temperature\": 0.9,\n",
        "    \"top_p\": 1,\n",
        "    \"top_k\": 1\n",
        "}\n",
        "safety_settings={\n",
        "          generative_models.HarmCategory.HARM_CATEGORY_HATE_SPEECH: generative_models.HarmBlockThreshold.BLOCK_MEDIUM_AND_ABOVE,\n",
        "          generative_models.HarmCategory.HARM_CATEGORY_DANGEROUS_CONTENT: generative_models.HarmBlockThreshold.BLOCK_MEDIUM_AND_ABOVE,\n",
        "          generative_models.HarmCategory.HARM_CATEGORY_SEXUALLY_EXPLICIT: generative_models.HarmBlockThreshold.BLOCK_MEDIUM_AND_ABOVE,\n",
        "          generative_models.HarmCategory.HARM_CATEGORY_HARASSMENT: generative_models.HarmBlockThreshold.BLOCK_MEDIUM_AND_ABOVE,\n",
        "    }\n",
        "chat = chat_model.start_chat(\n",
        "    context=\"\"\"\"\"\",\n",
        ")\n",
        "response = chat.send_message(\"\"\"Hello. Please help extract the main issues from this customer\\\\\\'s complaint:\n",
        "\n",
        "I like to start off by saying my family loves your restaurant...I remember the days when our kids had birthday parties there. But the decline in service is scary and truly hurting the reputation. Our family went to your location on Jessup Rd in Summerville, SC, the other day. We drove up to the speaker and placed our order. Drove around and there was one car. That car was there a while then they pulled around to the other side. We moved up and waited 28 minutes, and watched about 4 other cars leave. In those 28 minutes, not one employee came to the window. We watched as they were talking and laughing with each other going back and forth in the lobby. We noticed that the people who were in front of us ended up going inside. We finally drove off and went to another restaurant. Fast easy and friendly service. I truly hope you guys can save BK. But I have to say I\\\\\\'m so disappointed as a supporter.\"\"\", **parameters)\n",
        "print(f\"Response from Model: {response.text}\")\n",
        "response = chat.send_message(\"\"\"How can we revise our practices or protocols to prevent future incidents like these?\"\"\", **parameters)\n",
        "print(f\"Response from Model: {response.text}\")\n",
        "response = chat.send_message(\"\"\"tell me more about your insurance property\"\"\", **parameters)\n",
        "print(f\"Response from Model: {response.text}\")"
      ]
    },
    {
      "cell_type": "code",
      "execution_count": null,
      "metadata": {
        "id": "xOFZgCyeYelR"
      },
      "outputs": [],
      "source": []
    }
  ],
  "metadata": {
    "colab": {
      "provenance": []
    },
    "kernelspec": {
      "display_name": "Python 3",
      "name": "python3"
    },
    "language_info": {
      "name": "python"
    }
  },
  "nbformat": 4,
  "nbformat_minor": 0
}
